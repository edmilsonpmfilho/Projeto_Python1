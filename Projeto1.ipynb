{
 "cells": [
  {
   "cell_type": "code",
   "execution_count": null,
   "id": "e5040f88",
   "metadata": {},
   "outputs": [],
   "source": [
    "\n",
    "import pandas as pd\n",
    "\n",
    "tabela = pd.read_excel(r\"Dez.xlsx\")\n",
    "display(tabela)\n"
   ]
  },
  {
   "cell_type": "markdown",
   "id": "16d053bd",
   "metadata": {},
   "source": [
    "O pandas serve paraimportar base de dados para o Python; Usar o \"as pd\" que serve como um 'apelido' para facilitar a digitação.\n",
    "Tebela > variavel\n",
    "pandas.read_excel()>serve para ler a base de dados do excel(xlsx) e armazenala dentro da variavel tabela; Tem que passar como parametro o caminho completo mais o nome; Sempre por o a letra \"r\" antes de passar o caminho do arquivo, quando for arquivo de testo, diz pro python para ignorar formatação de exportação do python.\n",
    "display> serve para exibir a table(só tem esta função no jupyter, se for em outra ide tem q usar o print); Com o display a tebela vem mais organizada do que com o print;\n"
   ]
  },
  {
   "cell_type": "code",
   "execution_count": null,
   "id": "af765231",
   "metadata": {},
   "outputs": [],
   "source": [
    "quantidade = tabela[\"Quantidade\"].sum()\n",
    "\n",
    "faturamento = tabela[\"Valor Final\"].sum()\n",
    "\n",
    "print(\"Quantidade de itens vendidos:\",quantidade)\n",
    "print(\"Total do faturamento:\",faturamento)"
   ]
  },
  {
   "cell_type": "markdown",
   "id": "addfd7c7",
   "metadata": {},
   "source": [
    "tabela[]> Regra sempre que quiser selecionar a coluna de uma tabela tem que usar o \"[]\"\n",
    "\n",
    "O python não faz diferença de aspas simples ou duplas"
   ]
  },
  {
   "cell_type": "code",
   "execution_count": null,
   "id": "1f367a1f",
   "metadata": {},
   "outputs": [],
   "source": [
    "import pyautogui as pa\n",
    "import time \n",
    "import pyperclip as pc\n",
    "\n",
    "pa.hotkey(\"ctrl\",\"t\")#serve para abrir uma nova aba\n",
    "pc.copy(\"ADICIONE AQUI SEU LINK DE EMAIL\")# serve para copiar o link\n",
    "pa.hotkey(\"ctrl\",\"v\")#serve para colar o link\n",
    "pa.press(\"enter\")#serve para apertar um botão neste caso o enter\n",
    "time.sleep(10)# tempo de espera para a proxima etapa\n",
    "#fim da primeira etapa\n",
    "\n",
    "#1 clicar no botaõ escrever\n",
    "pa.click(x=66, y=253)#para cliclar no botão, já vai aturomaticamente para o campo destinatario\n",
    "time.sleep(3)\n",
    "#2 preencher o destinatario\n",
    "\n",
    "pa.write(\"ADICIONE AQUI O DISTINATARIO\")#serve para escrever o/os endereço de email\n",
    "pa.press(\"tab\")#selecionar o email\n",
    "#sempre que for adicionar um email tem que fazer esse bloco\n",
    "\n",
    "#3 escrever o assunto\n",
    "pa.press(\"tab\")#para passar para o campo de assunto\n",
    "pc.copy(\"Relatório de Vendas\")#para copiar o nome do assunto, pq o pyautogui não consegui 'digitar' caracteres especiais\n",
    "pa.hotkey(\"ctrl\",\"v\")#colar o nome do assunto\n",
    "\n",
    "#4 escrever o corpo do email\n",
    "#4.1 criar um corpor de email, abrir e fechar 3 aspas duplas/simples, tem que para poder passar textos com mais de uma linha\n",
    "texto = f\"\"\"\n",
    "Prezado bom dia,\n",
    "\n",
    "O faturamento de ontem: R${faturamento:,.2f}\n",
    "A quantidade vendida ontem: {quantidade:,}\n",
    "\n",
    "Att\n",
    "Edmilson Filho\n",
    "\n",
    "\"\"\"\n",
    "#passar o parametro 'f' no inicio para definir que existe uma formatação dentro do testo e possinbilitar a 'adição' de variaveis\n",
    "#as variaveis dentro do texto devem estar dentro de \"{}\"\n",
    "#para formartar: em quantidade> usar ':' para iniciar a formatação e uma ',' que indica o separador de milhar;\n",
    "#faturamento> ':' para inicicar a formatação, ',' para indicar o separador de milhar e '.2f' para por duas casas decimais\n",
    "#'.'para dizer que tem casa decimal e '2f' quantas casas decimais são(pode ser qualquer numero no lugar do '2')\n",
    "pa.press(\"tab\")# passar para o campo do corpo do email\n",
    "pc.copy(texto)#copiar o texto do email\n",
    "pa.hotkey(\"ctrl\",\"v\")#colar o texto pq pode ter algum cacter especial\n",
    "\n",
    "#5 enviar o email\n",
    "pa.hotkey(\"ctrl\",\"enter\")#atalho para enviar o email"
   ]
  },
  {
   "cell_type": "markdown",
   "id": "5dae3ca2",
   "metadata": {},
   "source": [
    "E\n"
   ]
  },
  {
   "cell_type": "code",
   "execution_count": null,
   "id": "7cc2d731",
   "metadata": {},
   "outputs": [],
   "source": [
    "#1.2 pegar a posição do botção escrever\n",
    "time.sleep(6)#para dar o tempo para acontecer a ação\n",
    "pt.position()"
   ]
  },
  {
   "cell_type": "code",
   "execution_count": null,
   "id": "cb869721",
   "metadata": {},
   "outputs": [],
   "source": []
  }
 ],
 "metadata": {
  "kernelspec": {
   "display_name": "Python 3 (ipykernel)",
   "language": "python",
   "name": "python3"
  },
  "language_info": {
   "codemirror_mode": {
    "name": "ipython",
    "version": 3
   },
   "file_extension": ".py",
   "mimetype": "text/x-python",
   "name": "python",
   "nbconvert_exporter": "python",
   "pygments_lexer": "ipython3",
   "version": "3.9.12"
  }
 },
 "nbformat": 4,
 "nbformat_minor": 5
}
